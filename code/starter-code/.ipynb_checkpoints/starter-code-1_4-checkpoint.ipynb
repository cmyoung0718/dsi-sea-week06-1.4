{
 "cells": [
  {
   "cell_type": "markdown",
   "metadata": {
    "button": false,
    "deletable": true,
    "new_sheet": false,
    "run_control": {
     "read_only": false
    }
   },
   "source": [
    "# APIs Lab\n",
    "In this lab we will practice using APIs to retrieve and store data."
   ]
  },
  {
   "cell_type": "code",
   "execution_count": 2,
   "metadata": {
    "button": false,
    "collapsed": false,
    "deletable": true,
    "new_sheet": false,
    "run_control": {
     "read_only": false
    }
   },
   "outputs": [],
   "source": [
    "# Imports at the top\n",
    "import json\n",
    "import urllib\n",
    "import pandas as pd\n",
    "import numpy as np\n",
    "import requests\n",
    "import json\n",
    "import re\n",
    "import matplotlib.pyplot as plt\n",
    "from bs4 import BeautifulSoup\n",
    "%matplotlib inline"
   ]
  },
  {
   "cell_type": "markdown",
   "metadata": {
    "button": false,
    "deletable": true,
    "new_sheet": false,
    "run_control": {
     "read_only": false
    }
   },
   "source": [
    "## Exercise 1: IMDB Movies\n",
    "\n",
    "Sometimes an API doesn't provide all the information we would like to get and we need to be creative.\n",
    "Here we will use a combination of scraping and API calls to investigate the ratings and gross earnings of famous movies."
   ]
  },
  {
   "cell_type": "markdown",
   "metadata": {
    "button": false,
    "collapsed": true,
    "deletable": true,
    "new_sheet": false,
    "run_control": {
     "read_only": false
    }
   },
   "source": [
    "## 1.a Get top movies\n",
    "\n",
    "The Internet Movie Database contains data about movies. Unfortunately it does not have a public API.\n",
    "\n",
    "The page http://www.imdb.com/chart/top contains the list of the top 250 movies of all times. Retrieve the page using the requests library and then parse the html to obtain a list of the `movie_ids` for these movies. You can parse it with regular expression or using a library like `BeautifulSoup`.\n",
    "\n",
    "**Hint:** movie_ids look like this: `tt2582802`"
   ]
  },
  {
   "cell_type": "code",
   "execution_count": 3,
   "metadata": {
    "collapsed": false
   },
   "outputs": [
    {
     "name": "stderr",
     "output_type": "stream",
     "text": [
      "//anaconda/lib/python2.7/site-packages/bs4/__init__.py:181: UserWarning: No parser was explicitly specified, so I'm using the best available HTML parser for this system (\"lxml\"). This usually isn't a problem, but if you run this code on another system, or in a different virtual environment, it may use a different parser and behave differently.\n",
      "\n",
      "The code that caused this warning is on line 174 of the file //anaconda/lib/python2.7/runpy.py. To get rid of this warning, change code that looks like this:\n",
      "\n",
      " BeautifulSoup([your markup])\n",
      "\n",
      "to this:\n",
      "\n",
      " BeautifulSoup([your markup], \"lxml\")\n",
      "\n",
      "  markup_type=markup_type))\n"
     ]
    },
    {
     "name": "stdout",
     "output_type": "stream",
     "text": [
      "['tt0111161', 'tt0068646', 'tt0071562', 'tt0468569', 'tt0050083', 'tt0108052', 'tt0110912', 'tt0167260', 'tt0060196', 'tt0137523', 'tt0120737', 'tt0080684', 'tt0109830', 'tt1375666', 'tt0167261', 'tt0073486', 'tt0099685', 'tt0133093', 'tt0047478', 'tt0076759', 'tt0317248', 'tt0114369', 'tt0102926', 'tt0038650', 'tt0114814', 'tt0118799', 'tt0110413', 'tt0245429', 'tt0120815', 'tt0064116', 'tt0120586', 'tt0816692', 'tt0034583', 'tt0054215', 'tt0021749', 'tt0082971', 'tt0120689', 'tt1675434', 'tt0027977', 'tt0047396', 'tt0103064', 'tt0407887', 'tt0253474', 'tt0088763', 'tt2582802', 'tt0172495', 'tt0209144', 'tt0078788', 'tt0482571', 'tt0110357', 'tt0078748', 'tt0057012', 'tt0043014', 'tt0032553', 'tt0405094', 'tt0095765', 'tt0050825', 'tt1853728', 'tt0081505', 'tt0095327', 'tt0910970', 'tt1345836', 'tt0169547', 'tt0119698', 'tt0090605', 'tt0364569', 'tt0087843', 'tt0033467', 'tt0082096', 'tt0051201', 'tt0053125', 'tt0052357', 'tt0086190', 'tt0022100', 'tt0105236', 'tt0112573', 'tt0211915', 'tt0180093', 'tt0986264', 'tt0476735', 'tt0066921', 'tt0075314', 'tt0056172', 'tt0036775', 'tt0056592', 'tt0435761', 'tt0338013', 'tt0086879', 'tt0093058', 'tt0070735', 'tt0109117', 'tt0062622', 'tt0040522', 'tt0114709', 'tt0208092', 'tt0045152', 'tt0361748', 'tt0012349', 'tt0071853', 'tt0119488', 'tt0059578', 'tt1187043', 'tt0042876', 'tt0086250', 'tt0053604', 'tt0097576', 'tt1832382', 'tt0017136', 'tt2106476', 'tt0119217', 'tt0042192', 'tt0055630', 'tt0372784', 'tt0040897', 'tt0053291', 'tt1049413', 'tt0242519', 'tt0105695', 'tt0041959', 'tt0363163', 'tt0081398', 'tt0095016', 'tt0118849', 'tt0057115', 'tt0113277', 'tt0071315', 'tt2096673', 'tt0116231', 'tt0457430', 'tt0047296', 'tt0044741', 'tt0096283', 'tt3170832', 'tt0089881', 'tt0015864', 'tt0050212', 'tt0031679', 'tt1305806', 'tt0083658', 'tt0050976', 'tt0120735', 'tt0347149', 'tt0112641', 'tt0055031', 'tt0050986', 'tt0019254', 'tt0017925', 'tt0080678', 'tt0268978', 'tt0018455', 'tt1291584', 'tt0993846', 'tt0434409', 'tt1255953', 'tt1205489', 'tt0118715', 'tt0046438', 'tt0077416', 'tt0046912', 'tt0117951', 'tt0031381', 'tt0116282', 'tt0032976', 'tt0266543', 'tt0061512', 'tt0167404', 'tt0892769', 'tt0084787', 'tt2488496', 'tt0477348', 'tt0758758', 'tt0266697', 'tt0978762', 'tt2267998', 'tt0469494', 'tt0091251', 'tt0025316', 'tt0079470', 'tt1979320', 'tt0074896', 'tt0395169', 'tt0091763', 'tt0050783', 'tt0074958', 'tt0046268', 'tt1130884', 'tt1895587', 'tt0033870', 'tt0064115', 'tt0092005', 'tt0107207', 'tt1392190', 'tt0053198', 'tt3011894', 'tt2024544', 'tt0060827', 'tt0052618', 'tt2278388', 'tt0245712', 'tt0405159', 'tt0093779', 'tt0107290', 'tt1028532', 'tt0087544', 'tt0052311', 'tt0079944', 'tt0032551', 'tt0353969', 'tt0075686', 'tt0120382', 'tt2948356', 'tt0112471', 'tt0083987', 'tt0440963', 'tt0046911', 'tt0075148', 'tt0246578', 'tt1201607', 'tt0056801', 'tt0198781', 'tt0032138', 'tt0088247', 'tt0107048', 'tt0114746', 'tt1392214', 'tt0073195', 'tt0036868', 'tt0338564', 'tt0072684', 'tt0113247', 'tt0264464', 'tt0044079', 'tt0401792', 'tt0058946', 'tt0072890', 'tt0041546', 'tt1954470', 'tt0325980', 'tt1865505', 'tt1454029', 'tt2084970', 'tt1663202', 'tt1220719', 'tt3659388', 'tt1431045', 'tt0092067', 'tt0058461', 'tt0046250', 'tt2015381', 'tt0083922']\n"
     ]
    }
   ],
   "source": [
    "soup = BeautifulSoup(urllib.urlopen('http://www.imdb.com/chart/top'))\n",
    "tables = soup.find_all('table')\n",
    "table = tables[0]\n",
    "mov_ids = []\n",
    "for idx, i in enumerate(table.find_all('tr')):\n",
    "    if idx > 0:\n",
    "        for idx1, j in enumerate(i.find_all('a')):\n",
    "            if idx1 == 0:\n",
    "                mov_ids.append(j['href'].split('/')[2])\n",
    "print mov_ids"
   ]
  },
  {
   "cell_type": "markdown",
   "metadata": {
    "button": false,
    "deletable": true,
    "new_sheet": false,
    "run_control": {
     "read_only": false
    }
   },
   "source": [
    "## 1.b Get top movies data\n",
    "\n",
    "Although the Internet Movie Database does not have a public API, an open API exists at http://www.omdbapi.com.\n",
    "\n",
    "Use this API to retrieve information about each of the 250 movies you have extracted in the previous step.\n",
    "- Check the documentation of omdbapi.com to learn how to request movie data by id\n",
    "- Define a function that returns a python object with all the information for a given id\n",
    "- Iterate on all the IDs and store the results in a list of such objects\n",
    "- Create a Pandas Dataframe from the list"
   ]
  },
  {
   "cell_type": "code",
   "execution_count": 161,
   "metadata": {
    "button": false,
    "collapsed": false,
    "deletable": true,
    "new_sheet": false,
    "run_control": {
     "read_only": false
    }
   },
   "outputs": [
    {
     "data": {
      "text/html": [
       "<div>\n",
       "<table border=\"1\" class=\"dataframe\">\n",
       "  <thead>\n",
       "    <tr style=\"text-align: right;\">\n",
       "      <th></th>\n",
       "      <th>Actors</th>\n",
       "      <th>Awards</th>\n",
       "      <th>Country</th>\n",
       "      <th>Director</th>\n",
       "      <th>Genre</th>\n",
       "      <th>Language</th>\n",
       "      <th>Metascore</th>\n",
       "      <th>Plot</th>\n",
       "      <th>Poster</th>\n",
       "      <th>Rated</th>\n",
       "      <th>Released</th>\n",
       "      <th>Response</th>\n",
       "      <th>Runtime</th>\n",
       "      <th>Title</th>\n",
       "      <th>Type</th>\n",
       "      <th>Writer</th>\n",
       "      <th>Year</th>\n",
       "      <th>imdbID</th>\n",
       "      <th>imdbRating</th>\n",
       "      <th>imdbVotes</th>\n",
       "    </tr>\n",
       "  </thead>\n",
       "  <tbody>\n",
       "    <tr>\n",
       "      <th>0</th>\n",
       "      <td>Tim Robbins, Morgan Freeman, Bob Gunton, Willi...</td>\n",
       "      <td>Nominated for 7 Oscars. Another 18 wins &amp; 30 n...</td>\n",
       "      <td>USA</td>\n",
       "      <td>Frank Darabont</td>\n",
       "      <td>Crime, Drama</td>\n",
       "      <td>English</td>\n",
       "      <td>80</td>\n",
       "      <td>Two imprisoned men bond over a number of years...</td>\n",
       "      <td>https://images-na.ssl-images-amazon.com/images...</td>\n",
       "      <td>R</td>\n",
       "      <td>14 Oct 1994</td>\n",
       "      <td>True</td>\n",
       "      <td>142 min</td>\n",
       "      <td>The Shawshank Redemption</td>\n",
       "      <td>movie</td>\n",
       "      <td>Stephen King (short story \"Rita Hayworth and S...</td>\n",
       "      <td>1994</td>\n",
       "      <td>tt0111161</td>\n",
       "      <td>9.3</td>\n",
       "      <td>1,711,064</td>\n",
       "    </tr>\n",
       "    <tr>\n",
       "      <th>0</th>\n",
       "      <td>Marlon Brando, Al Pacino, James Caan, Richard ...</td>\n",
       "      <td>Won 3 Oscars. Another 23 wins &amp; 27 nominations.</td>\n",
       "      <td>USA</td>\n",
       "      <td>Francis Ford Coppola</td>\n",
       "      <td>Crime, Drama</td>\n",
       "      <td>English, Italian, Latin</td>\n",
       "      <td>100</td>\n",
       "      <td>The aging patriarch of an organized crime dyna...</td>\n",
       "      <td>https://images-na.ssl-images-amazon.com/images...</td>\n",
       "      <td>R</td>\n",
       "      <td>24 Mar 1972</td>\n",
       "      <td>True</td>\n",
       "      <td>175 min</td>\n",
       "      <td>The Godfather</td>\n",
       "      <td>movie</td>\n",
       "      <td>Mario Puzo (screenplay), Francis Ford Coppola ...</td>\n",
       "      <td>1972</td>\n",
       "      <td>tt0068646</td>\n",
       "      <td>9.2</td>\n",
       "      <td>1,177,812</td>\n",
       "    </tr>\n",
       "    <tr>\n",
       "      <th>0</th>\n",
       "      <td>Al Pacino, Robert Duvall, Diane Keaton, Robert...</td>\n",
       "      <td>Won 6 Oscars. Another 10 wins &amp; 20 nominations.</td>\n",
       "      <td>USA</td>\n",
       "      <td>Francis Ford Coppola</td>\n",
       "      <td>Crime, Drama</td>\n",
       "      <td>English, Italian, Spanish, Latin, Sicilian</td>\n",
       "      <td>80</td>\n",
       "      <td>The early life and career of Vito Corleone in ...</td>\n",
       "      <td>https://images-na.ssl-images-amazon.com/images...</td>\n",
       "      <td>R</td>\n",
       "      <td>20 Dec 1974</td>\n",
       "      <td>True</td>\n",
       "      <td>202 min</td>\n",
       "      <td>The Godfather: Part II</td>\n",
       "      <td>movie</td>\n",
       "      <td>Francis Ford Coppola (screenplay), Mario Puzo ...</td>\n",
       "      <td>1974</td>\n",
       "      <td>tt0071562</td>\n",
       "      <td>9.0</td>\n",
       "      <td>807,734</td>\n",
       "    </tr>\n",
       "    <tr>\n",
       "      <th>0</th>\n",
       "      <td>Christian Bale, Heath Ledger, Aaron Eckhart, M...</td>\n",
       "      <td>Won 2 Oscars. Another 146 wins &amp; 142 nominations.</td>\n",
       "      <td>USA, UK</td>\n",
       "      <td>Christopher Nolan</td>\n",
       "      <td>Action, Crime, Drama</td>\n",
       "      <td>English, Mandarin</td>\n",
       "      <td>82</td>\n",
       "      <td>When the menace known as the Joker wreaks havo...</td>\n",
       "      <td>https://images-na.ssl-images-amazon.com/images...</td>\n",
       "      <td>PG-13</td>\n",
       "      <td>18 Jul 2008</td>\n",
       "      <td>True</td>\n",
       "      <td>152 min</td>\n",
       "      <td>The Dark Knight</td>\n",
       "      <td>movie</td>\n",
       "      <td>Jonathan Nolan (screenplay), Christopher Nolan...</td>\n",
       "      <td>2008</td>\n",
       "      <td>tt0468569</td>\n",
       "      <td>9.0</td>\n",
       "      <td>1,699,835</td>\n",
       "    </tr>\n",
       "    <tr>\n",
       "      <th>0</th>\n",
       "      <td>Martin Balsam, John Fiedler, Lee J. Cobb, E.G....</td>\n",
       "      <td>Nominated for 3 Oscars. Another 16 wins &amp; 8 no...</td>\n",
       "      <td>USA</td>\n",
       "      <td>Sidney Lumet</td>\n",
       "      <td>Crime, Drama</td>\n",
       "      <td>English</td>\n",
       "      <td>N/A</td>\n",
       "      <td>A jury holdout attempts to prevent a miscarria...</td>\n",
       "      <td>https://images-na.ssl-images-amazon.com/images...</td>\n",
       "      <td>APPROVED</td>\n",
       "      <td>01 Apr 1957</td>\n",
       "      <td>True</td>\n",
       "      <td>96 min</td>\n",
       "      <td>12 Angry Men</td>\n",
       "      <td>movie</td>\n",
       "      <td>Reginald Rose (story), Reginald Rose (screenplay)</td>\n",
       "      <td>1957</td>\n",
       "      <td>tt0050083</td>\n",
       "      <td>8.9</td>\n",
       "      <td>455,987</td>\n",
       "    </tr>\n",
       "  </tbody>\n",
       "</table>\n",
       "</div>"
      ],
      "text/plain": [
       "                                              Actors  \\\n",
       "0  Tim Robbins, Morgan Freeman, Bob Gunton, Willi...   \n",
       "0  Marlon Brando, Al Pacino, James Caan, Richard ...   \n",
       "0  Al Pacino, Robert Duvall, Diane Keaton, Robert...   \n",
       "0  Christian Bale, Heath Ledger, Aaron Eckhart, M...   \n",
       "0  Martin Balsam, John Fiedler, Lee J. Cobb, E.G....   \n",
       "\n",
       "                                              Awards  Country  \\\n",
       "0  Nominated for 7 Oscars. Another 18 wins & 30 n...      USA   \n",
       "0    Won 3 Oscars. Another 23 wins & 27 nominations.      USA   \n",
       "0    Won 6 Oscars. Another 10 wins & 20 nominations.      USA   \n",
       "0  Won 2 Oscars. Another 146 wins & 142 nominations.  USA, UK   \n",
       "0  Nominated for 3 Oscars. Another 16 wins & 8 no...      USA   \n",
       "\n",
       "               Director                 Genre  \\\n",
       "0        Frank Darabont          Crime, Drama   \n",
       "0  Francis Ford Coppola          Crime, Drama   \n",
       "0  Francis Ford Coppola          Crime, Drama   \n",
       "0     Christopher Nolan  Action, Crime, Drama   \n",
       "0          Sidney Lumet          Crime, Drama   \n",
       "\n",
       "                                     Language Metascore  \\\n",
       "0                                     English        80   \n",
       "0                     English, Italian, Latin       100   \n",
       "0  English, Italian, Spanish, Latin, Sicilian        80   \n",
       "0                           English, Mandarin        82   \n",
       "0                                     English       N/A   \n",
       "\n",
       "                                                Plot  \\\n",
       "0  Two imprisoned men bond over a number of years...   \n",
       "0  The aging patriarch of an organized crime dyna...   \n",
       "0  The early life and career of Vito Corleone in ...   \n",
       "0  When the menace known as the Joker wreaks havo...   \n",
       "0  A jury holdout attempts to prevent a miscarria...   \n",
       "\n",
       "                                              Poster     Rated     Released  \\\n",
       "0  https://images-na.ssl-images-amazon.com/images...         R  14 Oct 1994   \n",
       "0  https://images-na.ssl-images-amazon.com/images...         R  24 Mar 1972   \n",
       "0  https://images-na.ssl-images-amazon.com/images...         R  20 Dec 1974   \n",
       "0  https://images-na.ssl-images-amazon.com/images...     PG-13  18 Jul 2008   \n",
       "0  https://images-na.ssl-images-amazon.com/images...  APPROVED  01 Apr 1957   \n",
       "\n",
       "  Response  Runtime                     Title   Type  \\\n",
       "0     True  142 min  The Shawshank Redemption  movie   \n",
       "0     True  175 min             The Godfather  movie   \n",
       "0     True  202 min    The Godfather: Part II  movie   \n",
       "0     True  152 min           The Dark Knight  movie   \n",
       "0     True   96 min              12 Angry Men  movie   \n",
       "\n",
       "                                              Writer  Year     imdbID  \\\n",
       "0  Stephen King (short story \"Rita Hayworth and S...  1994  tt0111161   \n",
       "0  Mario Puzo (screenplay), Francis Ford Coppola ...  1972  tt0068646   \n",
       "0  Francis Ford Coppola (screenplay), Mario Puzo ...  1974  tt0071562   \n",
       "0  Jonathan Nolan (screenplay), Christopher Nolan...  2008  tt0468569   \n",
       "0  Reginald Rose (story), Reginald Rose (screenplay)  1957  tt0050083   \n",
       "\n",
       "  imdbRating  imdbVotes  \n",
       "0        9.3  1,711,064  \n",
       "0        9.2  1,177,812  \n",
       "0        9.0    807,734  \n",
       "0        9.0  1,699,835  \n",
       "0        8.9    455,987  "
      ]
     },
     "execution_count": 161,
     "metadata": {},
     "output_type": "execute_result"
    }
   ],
   "source": [
    "\n",
    "mov_info = pd.DataFrame()\n",
    "for i in mov_ids:\n",
    "    soup = BeautifulSoup(urllib.urlopen('http://www.omdbapi.com/?i='+ i), \"lxml\")\n",
    "    parsed_json = json.loads(soup.text)\n",
    "    mov_info = pd.concat((mov_info, (pd.DataFrame([parsed_json]))), axis = 0)\n",
    "    \n",
    "mov_info.head()"
   ]
  },
  {
   "cell_type": "markdown",
   "metadata": {
    "button": false,
    "deletable": true,
    "new_sheet": false,
    "run_control": {
     "read_only": false
    }
   },
   "source": [
    "## 1.c Get gross data\n",
    "\n",
    "The OMDB API is great, but it does not provide information about Gross Revenue of the movie. We'll revert back to scraping for this.\n",
    "\n",
    "- Write a function that retrieves the gross revenue from the entry page at imdb.com\n",
    "- The function should handle the exception of when the page doesn't report gross revenue\n",
    "- Retrieve the gross revenue for each movie and store it in a separate dataframe"
   ]
  },
  {
   "cell_type": "code",
   "execution_count": 162,
   "metadata": {
    "button": false,
    "collapsed": false,
    "deletable": true,
    "new_sheet": false,
    "run_control": {
     "read_only": false
    }
   },
   "outputs": [],
   "source": [
    "mov_hrefs = []\n",
    "for idx, i in enumerate(table.find_all('tr')):\n",
    "    if idx > 0:\n",
    "        for idx1, j in enumerate(i.find_all('a')):\n",
    "            if idx1 == 0:\n",
    "                mov_hrefs.append(j['href'])\n"
   ]
  },
  {
   "cell_type": "code",
   "execution_count": 163,
   "metadata": {
    "collapsed": true
   },
   "outputs": [],
   "source": [
    "listy = []\n",
    "for i in mov_hrefs:\n",
    "    listy.append(BeautifulSoup(urllib.urlopen('http://www.imdb.com/'+i)))"
   ]
  },
  {
   "cell_type": "code",
   "execution_count": 164,
   "metadata": {
    "collapsed": false
   },
   "outputs": [
    {
     "name": "stdout",
     "output_type": "stream",
     "text": [
      "28,341,469\n"
     ]
    }
   ],
   "source": [
    "# Test for function\n",
    "soupy = BeautifulSoup(urllib.urlopen('http://www.imdb.com/title/tt0111161/?pf_rd_m=A2FGELUUNOQJNL&pf_rd_p=2398042102&pf_rd_r=0774AXCEHSH9WT2N1T7T&pf_rd_s=center-1&pf_rd_t=15506&pf_rd_i=top&ref_=chttp_tt_1'))\n",
    "\n",
    "for idx, i in enumerate(soupy.find_all('div', id=\"titleDetails\")):\n",
    "    for idx1, j in enumerate(i.find_all('div', class_='txt-block')):\n",
    "        if 'Gross' in j.text:\n",
    "            print (j.text.split('$')[1]).split(' ')[0]"
   ]
  },
  {
   "cell_type": "code",
   "execution_count": 165,
   "metadata": {
    "collapsed": false
   },
   "outputs": [
    {
     "data": {
      "text/plain": [
       "[28341469.0, 134821952.0, 57300000.0, 533316061.0, 0.0]"
      ]
     },
     "execution_count": 165,
     "metadata": {},
     "output_type": "execute_result"
    }
   ],
   "source": [
    "# getting and formatting gross\n",
    "def thing(k):\n",
    "    gross_ = []\n",
    "    found = False\n",
    "    for idx, i in enumerate(k.find_all('div', id=\"titleDetails\")):\n",
    "        for idx1, j in enumerate(i.find_all('div', class_='txt-block')):\n",
    "            if 'Gross' in j.text:\n",
    "                gross_.append(float((j.text.split('$')[1]).split(' ')[0].replace(',', '')))\n",
    "                found = True\n",
    "    if not found:\n",
    "        gross_.append(0.0)\n",
    "    return gross_\n",
    "\n",
    "gross = []\n",
    "for i in listy:\n",
    "    gross += thing(i)\n",
    "gross[:5]"
   ]
  },
  {
   "cell_type": "code",
   "execution_count": 166,
   "metadata": {
    "collapsed": false
   },
   "outputs": [
    {
     "data": {
      "text/plain": [
       "250"
      ]
     },
     "execution_count": 166,
     "metadata": {},
     "output_type": "execute_result"
    }
   ],
   "source": [
    "len(gross)"
   ]
  },
  {
   "cell_type": "markdown",
   "metadata": {
    "button": false,
    "deletable": true,
    "new_sheet": false,
    "run_control": {
     "read_only": false
    }
   },
   "source": [
    "## 1.d Data munging\n",
    "\n",
    "- Now that you have movie information and gross revenue information, let's clean the two datasets.\n",
    "- Check if there are null values. Be careful they may appear to be valid strings.\n",
    "- Convert the columns to the appropriate formats. In particular handle:\n",
    "    - Released\n",
    "    - Runtime\n",
    "    - year\n",
    "    - imdbRating\n",
    "    - imdbVotes\n",
    "- Merge the data from the two datasets into a single one"
   ]
  },
  {
   "cell_type": "code",
   "execution_count": 167,
   "metadata": {
    "button": false,
    "collapsed": false,
    "deletable": true,
    "new_sheet": false,
    "run_control": {
     "read_only": false
    },
    "scrolled": true
   },
   "outputs": [],
   "source": [
    "mov_info['Gross'] = gross\n"
   ]
  },
  {
   "cell_type": "code",
   "execution_count": 168,
   "metadata": {
    "collapsed": false
   },
   "outputs": [],
   "source": [
    "# Get rid of N/As in Metascore\n",
    "total = 0\n",
    "count = 0\n",
    "for i in mov_info['Metascore']:\n",
    "    try:\n",
    "        i = float(i)\n",
    "        total += i\n",
    "        count += 1\n",
    "    except:\n",
    "        continue\n",
    "avg = (total / count)\n",
    "mov_info['Metascore'] = [str(i) for i in mov_info['Metascore']]\n",
    "mov_info['Metascore'] = [i.replace('N/A', str(avg)) for i in mov_info['Metascore']]\n",
    "mov_info['Metascore'] = [float(i) for i in mov_info['Metascore']]"
   ]
  },
  {
   "cell_type": "code",
   "execution_count": 169,
   "metadata": {
    "collapsed": false
   },
   "outputs": [
    {
     "data": {
      "text/plain": [
       "R            104\n",
       "PG            38\n",
       "PG-13         32\n",
       "NOT RATED     24\n",
       "APPROVED      20\n",
       "G             12\n",
       "UNRATED        9\n",
       "PASSED         6\n",
       "N/A            4\n",
       "M              1\n",
       "Name: Rated, dtype: int64"
      ]
     },
     "execution_count": 169,
     "metadata": {},
     "output_type": "execute_result"
    }
   ],
   "source": [
    "# Getting rid of N/As in Rated\n",
    "mov_info['Rated'] = [str(i) for i in mov_info['Rated']]\n",
    "mov_info['Rated'] = [i.replace('Not Rated', 'NOT RATED') for i in mov_info['Rated']]\n",
    "mov_info['Rated'].value_counts()"
   ]
  },
  {
   "cell_type": "code",
   "execution_count": 177,
   "metadata": {
    "collapsed": false
   },
   "outputs": [],
   "source": [
    "# Indexing was wrong, had to fix it\n",
    "# mov_info.index = range(0,250)\n",
    "# mov_info.loc[134,'Released'] = '01 Jan 1925'"
   ]
  },
  {
   "cell_type": "code",
   "execution_count": 206,
   "metadata": {
    "collapsed": false
   },
   "outputs": [],
   "source": [
    "# Changing types\n",
    "# mov_info['imdbRating'] = [float(i) for i in mov_info['imdbRating']]\n",
    "# mov_info['Runtime'] = [float(str(i).split(' ')[0]) for i in mov_info['Runtime']]\n",
    "# mov_info['Year'] = [pd.to_datetime(str(i)) for i in mov_info['Year']]\n",
    "# mov_info['Released'] = [pd.to_datetime(str(i), format='%d %b %Y') for i in mov_info['Released']]\n",
    "# mov_info['imdbVotes'] = [float(str(i).replace(',', '')) for i in mov_info['imdbVotes']]\n"
   ]
  },
  {
   "cell_type": "markdown",
   "metadata": {
    "button": false,
    "deletable": true,
    "new_sheet": false,
    "run_control": {
     "read_only": false
    }
   },
   "source": [
    "## 1.e Text vectorization\n",
    "\n",
    "There are several columns in the data that contain a comma separated list of items, for example the Genre column and the Actors column. Let's transform those to binary columns using the count vectorizer from scikit learn.\n",
    "\n",
    "Append these columns to the merged dataframe.\n",
    "\n",
    "**Hint:** In order to get the actors name right, you'll have to modify the `token_pattern` in the `CountVectorizer`."
   ]
  },
  {
   "cell_type": "code",
   "execution_count": 319,
   "metadata": {
    "button": false,
    "collapsed": false,
    "deletable": true,
    "new_sheet": false,
    "run_control": {
     "read_only": false
    }
   },
   "outputs": [
    {
     "data": {
      "text/html": [
       "<div>\n",
       "<table border=\"1\" class=\"dataframe\">\n",
       "  <thead>\n",
       "    <tr style=\"text-align: right;\">\n",
       "      <th></th>\n",
       "      <th>000</th>\n",
       "      <th>1950s</th>\n",
       "      <th>1984</th>\n",
       "      <th>24</th>\n",
       "      <th>abandoned</th>\n",
       "      <th>able</th>\n",
       "      <th>accident</th>\n",
       "      <th>accidentally</th>\n",
       "      <th>action</th>\n",
       "      <th>actress</th>\n",
       "      <th>...</th>\n",
       "      <th>wrong</th>\n",
       "      <th>wwii</th>\n",
       "      <th>year</th>\n",
       "      <th>year old</th>\n",
       "      <th>years</th>\n",
       "      <th>york</th>\n",
       "      <th>young</th>\n",
       "      <th>young boy</th>\n",
       "      <th>young man</th>\n",
       "      <th>young woman</th>\n",
       "    </tr>\n",
       "  </thead>\n",
       "  <tbody>\n",
       "    <tr>\n",
       "      <th>0</th>\n",
       "      <td>0</td>\n",
       "      <td>0</td>\n",
       "      <td>0</td>\n",
       "      <td>0</td>\n",
       "      <td>0</td>\n",
       "      <td>0</td>\n",
       "      <td>0</td>\n",
       "      <td>0</td>\n",
       "      <td>0</td>\n",
       "      <td>0</td>\n",
       "      <td>...</td>\n",
       "      <td>0</td>\n",
       "      <td>0</td>\n",
       "      <td>0</td>\n",
       "      <td>0</td>\n",
       "      <td>1</td>\n",
       "      <td>0</td>\n",
       "      <td>0</td>\n",
       "      <td>0</td>\n",
       "      <td>0</td>\n",
       "      <td>0</td>\n",
       "    </tr>\n",
       "    <tr>\n",
       "      <th>1</th>\n",
       "      <td>0</td>\n",
       "      <td>0</td>\n",
       "      <td>0</td>\n",
       "      <td>0</td>\n",
       "      <td>0</td>\n",
       "      <td>0</td>\n",
       "      <td>0</td>\n",
       "      <td>0</td>\n",
       "      <td>0</td>\n",
       "      <td>0</td>\n",
       "      <td>...</td>\n",
       "      <td>0</td>\n",
       "      <td>0</td>\n",
       "      <td>0</td>\n",
       "      <td>0</td>\n",
       "      <td>0</td>\n",
       "      <td>0</td>\n",
       "      <td>0</td>\n",
       "      <td>0</td>\n",
       "      <td>0</td>\n",
       "      <td>0</td>\n",
       "    </tr>\n",
       "    <tr>\n",
       "      <th>2</th>\n",
       "      <td>0</td>\n",
       "      <td>0</td>\n",
       "      <td>0</td>\n",
       "      <td>0</td>\n",
       "      <td>0</td>\n",
       "      <td>0</td>\n",
       "      <td>0</td>\n",
       "      <td>0</td>\n",
       "      <td>0</td>\n",
       "      <td>0</td>\n",
       "      <td>...</td>\n",
       "      <td>0</td>\n",
       "      <td>0</td>\n",
       "      <td>0</td>\n",
       "      <td>0</td>\n",
       "      <td>0</td>\n",
       "      <td>1</td>\n",
       "      <td>0</td>\n",
       "      <td>0</td>\n",
       "      <td>0</td>\n",
       "      <td>0</td>\n",
       "    </tr>\n",
       "    <tr>\n",
       "      <th>3</th>\n",
       "      <td>0</td>\n",
       "      <td>0</td>\n",
       "      <td>0</td>\n",
       "      <td>0</td>\n",
       "      <td>0</td>\n",
       "      <td>0</td>\n",
       "      <td>0</td>\n",
       "      <td>0</td>\n",
       "      <td>0</td>\n",
       "      <td>0</td>\n",
       "      <td>...</td>\n",
       "      <td>0</td>\n",
       "      <td>0</td>\n",
       "      <td>0</td>\n",
       "      <td>0</td>\n",
       "      <td>0</td>\n",
       "      <td>0</td>\n",
       "      <td>0</td>\n",
       "      <td>0</td>\n",
       "      <td>0</td>\n",
       "      <td>0</td>\n",
       "    </tr>\n",
       "    <tr>\n",
       "      <th>4</th>\n",
       "      <td>0</td>\n",
       "      <td>0</td>\n",
       "      <td>0</td>\n",
       "      <td>0</td>\n",
       "      <td>0</td>\n",
       "      <td>0</td>\n",
       "      <td>0</td>\n",
       "      <td>0</td>\n",
       "      <td>0</td>\n",
       "      <td>0</td>\n",
       "      <td>...</td>\n",
       "      <td>0</td>\n",
       "      <td>0</td>\n",
       "      <td>0</td>\n",
       "      <td>0</td>\n",
       "      <td>0</td>\n",
       "      <td>0</td>\n",
       "      <td>0</td>\n",
       "      <td>0</td>\n",
       "      <td>0</td>\n",
       "      <td>0</td>\n",
       "    </tr>\n",
       "  </tbody>\n",
       "</table>\n",
       "<p>5 rows × 1000 columns</p>\n",
       "</div>"
      ],
      "text/plain": [
       "   000  1950s  1984  24  abandoned  able  accident  accidentally  action  \\\n",
       "0    0      0     0   0          0     0         0             0       0   \n",
       "1    0      0     0   0          0     0         0             0       0   \n",
       "2    0      0     0   0          0     0         0             0       0   \n",
       "3    0      0     0   0          0     0         0             0       0   \n",
       "4    0      0     0   0          0     0         0             0       0   \n",
       "\n",
       "   actress     ...       wrong  wwii  year  year old  years  york  young  \\\n",
       "0        0     ...           0     0     0         0      1     0      0   \n",
       "1        0     ...           0     0     0         0      0     0      0   \n",
       "2        0     ...           0     0     0         0      0     1      0   \n",
       "3        0     ...           0     0     0         0      0     0      0   \n",
       "4        0     ...           0     0     0         0      0     0      0   \n",
       "\n",
       "   young boy  young man  young woman  \n",
       "0          0          0            0  \n",
       "1          0          0            0  \n",
       "2          0          0            0  \n",
       "3          0          0            0  \n",
       "4          0          0            0  \n",
       "\n",
       "[5 rows x 1000 columns]"
      ]
     },
     "execution_count": 319,
     "metadata": {},
     "output_type": "execute_result"
    }
   ],
   "source": [
    "from sklearn.feature_extraction.text import CountVectorizer\n",
    "\n",
    "v = CountVectorizer(\n",
    "    binary=True,  # Create binary features\n",
    "    stop_words='english', # Ignore common words such as 'the', 'and'\n",
    "    max_features=1000,\n",
    "    ngram_range=(1, 2)\n",
    ")\n",
    "X_plot = pd.DataFrame(v.fit_transform(mov_info['Plot']).todense())\n",
    "X_plot.columns = v.get_feature_names()\n",
    "X_plot.head()"
   ]
  },
  {
   "cell_type": "code",
   "execution_count": 321,
   "metadata": {
    "collapsed": false
   },
   "outputs": [
    {
     "data": {
      "text/html": [
       "<div>\n",
       "<table border=\"1\" class=\"dataframe\">\n",
       "  <thead>\n",
       "    <tr style=\"text-align: right;\">\n",
       "      <th></th>\n",
       "      <th>action</th>\n",
       "      <th>action adventure</th>\n",
       "      <th>action biography</th>\n",
       "      <th>action crime</th>\n",
       "      <th>action drama</th>\n",
       "      <th>action mystery</th>\n",
       "      <th>action sci</th>\n",
       "      <th>action thriller</th>\n",
       "      <th>adventure</th>\n",
       "      <th>adventure biography</th>\n",
       "      <th>...</th>\n",
       "      <th>noir romance</th>\n",
       "      <th>romance</th>\n",
       "      <th>romance thriller</th>\n",
       "      <th>romance war</th>\n",
       "      <th>sci</th>\n",
       "      <th>sci fi</th>\n",
       "      <th>sport</th>\n",
       "      <th>thriller</th>\n",
       "      <th>war</th>\n",
       "      <th>western</th>\n",
       "    </tr>\n",
       "  </thead>\n",
       "  <tbody>\n",
       "    <tr>\n",
       "      <th>0</th>\n",
       "      <td>0</td>\n",
       "      <td>0</td>\n",
       "      <td>0</td>\n",
       "      <td>0</td>\n",
       "      <td>0</td>\n",
       "      <td>0</td>\n",
       "      <td>0</td>\n",
       "      <td>0</td>\n",
       "      <td>0</td>\n",
       "      <td>0</td>\n",
       "      <td>...</td>\n",
       "      <td>0</td>\n",
       "      <td>0</td>\n",
       "      <td>0</td>\n",
       "      <td>0</td>\n",
       "      <td>0</td>\n",
       "      <td>0</td>\n",
       "      <td>0</td>\n",
       "      <td>0</td>\n",
       "      <td>0</td>\n",
       "      <td>0</td>\n",
       "    </tr>\n",
       "    <tr>\n",
       "      <th>1</th>\n",
       "      <td>0</td>\n",
       "      <td>0</td>\n",
       "      <td>0</td>\n",
       "      <td>0</td>\n",
       "      <td>0</td>\n",
       "      <td>0</td>\n",
       "      <td>0</td>\n",
       "      <td>0</td>\n",
       "      <td>0</td>\n",
       "      <td>0</td>\n",
       "      <td>...</td>\n",
       "      <td>0</td>\n",
       "      <td>0</td>\n",
       "      <td>0</td>\n",
       "      <td>0</td>\n",
       "      <td>0</td>\n",
       "      <td>0</td>\n",
       "      <td>0</td>\n",
       "      <td>0</td>\n",
       "      <td>0</td>\n",
       "      <td>0</td>\n",
       "    </tr>\n",
       "    <tr>\n",
       "      <th>2</th>\n",
       "      <td>0</td>\n",
       "      <td>0</td>\n",
       "      <td>0</td>\n",
       "      <td>0</td>\n",
       "      <td>0</td>\n",
       "      <td>0</td>\n",
       "      <td>0</td>\n",
       "      <td>0</td>\n",
       "      <td>0</td>\n",
       "      <td>0</td>\n",
       "      <td>...</td>\n",
       "      <td>0</td>\n",
       "      <td>0</td>\n",
       "      <td>0</td>\n",
       "      <td>0</td>\n",
       "      <td>0</td>\n",
       "      <td>0</td>\n",
       "      <td>0</td>\n",
       "      <td>0</td>\n",
       "      <td>0</td>\n",
       "      <td>0</td>\n",
       "    </tr>\n",
       "    <tr>\n",
       "      <th>3</th>\n",
       "      <td>1</td>\n",
       "      <td>0</td>\n",
       "      <td>0</td>\n",
       "      <td>1</td>\n",
       "      <td>0</td>\n",
       "      <td>0</td>\n",
       "      <td>0</td>\n",
       "      <td>0</td>\n",
       "      <td>0</td>\n",
       "      <td>0</td>\n",
       "      <td>...</td>\n",
       "      <td>0</td>\n",
       "      <td>0</td>\n",
       "      <td>0</td>\n",
       "      <td>0</td>\n",
       "      <td>0</td>\n",
       "      <td>0</td>\n",
       "      <td>0</td>\n",
       "      <td>0</td>\n",
       "      <td>0</td>\n",
       "      <td>0</td>\n",
       "    </tr>\n",
       "    <tr>\n",
       "      <th>4</th>\n",
       "      <td>0</td>\n",
       "      <td>0</td>\n",
       "      <td>0</td>\n",
       "      <td>0</td>\n",
       "      <td>0</td>\n",
       "      <td>0</td>\n",
       "      <td>0</td>\n",
       "      <td>0</td>\n",
       "      <td>0</td>\n",
       "      <td>0</td>\n",
       "      <td>...</td>\n",
       "      <td>0</td>\n",
       "      <td>0</td>\n",
       "      <td>0</td>\n",
       "      <td>0</td>\n",
       "      <td>0</td>\n",
       "      <td>0</td>\n",
       "      <td>0</td>\n",
       "      <td>0</td>\n",
       "      <td>0</td>\n",
       "      <td>0</td>\n",
       "    </tr>\n",
       "  </tbody>\n",
       "</table>\n",
       "<p>5 rows × 91 columns</p>\n",
       "</div>"
      ],
      "text/plain": [
       "   action  action adventure  action biography  action crime  action drama  \\\n",
       "0       0                 0                 0             0             0   \n",
       "1       0                 0                 0             0             0   \n",
       "2       0                 0                 0             0             0   \n",
       "3       1                 0                 0             1             0   \n",
       "4       0                 0                 0             0             0   \n",
       "\n",
       "   action mystery  action sci  action thriller  adventure  \\\n",
       "0               0           0                0          0   \n",
       "1               0           0                0          0   \n",
       "2               0           0                0          0   \n",
       "3               0           0                0          0   \n",
       "4               0           0                0          0   \n",
       "\n",
       "   adventure biography   ...     noir romance  romance  romance thriller  \\\n",
       "0                    0   ...                0        0                 0   \n",
       "1                    0   ...                0        0                 0   \n",
       "2                    0   ...                0        0                 0   \n",
       "3                    0   ...                0        0                 0   \n",
       "4                    0   ...                0        0                 0   \n",
       "\n",
       "   romance war  sci  sci fi  sport  thriller  war  western  \n",
       "0            0    0       0      0         0    0        0  \n",
       "1            0    0       0      0         0    0        0  \n",
       "2            0    0       0      0         0    0        0  \n",
       "3            0    0       0      0         0    0        0  \n",
       "4            0    0       0      0         0    0        0  \n",
       "\n",
       "[5 rows x 91 columns]"
      ]
     },
     "execution_count": 321,
     "metadata": {},
     "output_type": "execute_result"
    }
   ],
   "source": [
    "v = CountVectorizer(\n",
    "    binary=True,\n",
    "    stop_words='english',\n",
    "    ngram_range=(1, 2),\n",
    ")\n",
    "\n",
    "X_genre = pd.DataFrame(v.fit_transform(mov_info['Genre']).todense())\n",
    "X_genre.columns = v.get_feature_names()\n",
    "X_genre.head()"
   ]
  },
  {
   "cell_type": "code",
   "execution_count": 322,
   "metadata": {
    "collapsed": false
   },
   "outputs": [
    {
     "data": {
      "text/html": [
       "<div>\n",
       "<table border=\"1\" class=\"dataframe\">\n",
       "  <thead>\n",
       "    <tr style=\"text-align: right;\">\n",
       "      <th></th>\n",
       "      <th>aamir khan</th>\n",
       "      <th>aaron eckhart</th>\n",
       "      <th>abdel ahmed ghili</th>\n",
       "      <th>adam baldwin</th>\n",
       "      <th>adam driver</th>\n",
       "      <th>adolphe menjou</th>\n",
       "      <th>adrien brody</th>\n",
       "      <th>agnes moorehead</th>\n",
       "      <th>ahney her</th>\n",
       "      <th>akemi yamaguchi</th>\n",
       "      <th>...</th>\n",
       "      <th>yacef saadi</th>\n",
       "      <th>yesim salkim</th>\n",
       "      <th>yoshiko shinohara</th>\n",
       "      <th>yukiko shimazaki</th>\n",
       "      <th>yves montand</th>\n",
       "      <th>yôko tsukasa</th>\n",
       "      <th>zach grenier</th>\n",
       "      <th>zoe saldana</th>\n",
       "      <th>álvaro guerrero</th>\n",
       "      <th>çetin tekindor</th>\n",
       "    </tr>\n",
       "  </thead>\n",
       "  <tbody>\n",
       "    <tr>\n",
       "      <th>0</th>\n",
       "      <td>0</td>\n",
       "      <td>0</td>\n",
       "      <td>0</td>\n",
       "      <td>0</td>\n",
       "      <td>0</td>\n",
       "      <td>0</td>\n",
       "      <td>0</td>\n",
       "      <td>0</td>\n",
       "      <td>0</td>\n",
       "      <td>0</td>\n",
       "      <td>...</td>\n",
       "      <td>0</td>\n",
       "      <td>0</td>\n",
       "      <td>0</td>\n",
       "      <td>0</td>\n",
       "      <td>0</td>\n",
       "      <td>0</td>\n",
       "      <td>0</td>\n",
       "      <td>0</td>\n",
       "      <td>0</td>\n",
       "      <td>0</td>\n",
       "    </tr>\n",
       "    <tr>\n",
       "      <th>1</th>\n",
       "      <td>0</td>\n",
       "      <td>0</td>\n",
       "      <td>0</td>\n",
       "      <td>0</td>\n",
       "      <td>0</td>\n",
       "      <td>0</td>\n",
       "      <td>0</td>\n",
       "      <td>0</td>\n",
       "      <td>0</td>\n",
       "      <td>0</td>\n",
       "      <td>...</td>\n",
       "      <td>0</td>\n",
       "      <td>0</td>\n",
       "      <td>0</td>\n",
       "      <td>0</td>\n",
       "      <td>0</td>\n",
       "      <td>0</td>\n",
       "      <td>0</td>\n",
       "      <td>0</td>\n",
       "      <td>0</td>\n",
       "      <td>0</td>\n",
       "    </tr>\n",
       "    <tr>\n",
       "      <th>2</th>\n",
       "      <td>0</td>\n",
       "      <td>0</td>\n",
       "      <td>0</td>\n",
       "      <td>0</td>\n",
       "      <td>0</td>\n",
       "      <td>0</td>\n",
       "      <td>0</td>\n",
       "      <td>0</td>\n",
       "      <td>0</td>\n",
       "      <td>0</td>\n",
       "      <td>...</td>\n",
       "      <td>0</td>\n",
       "      <td>0</td>\n",
       "      <td>0</td>\n",
       "      <td>0</td>\n",
       "      <td>0</td>\n",
       "      <td>0</td>\n",
       "      <td>0</td>\n",
       "      <td>0</td>\n",
       "      <td>0</td>\n",
       "      <td>0</td>\n",
       "    </tr>\n",
       "    <tr>\n",
       "      <th>3</th>\n",
       "      <td>0</td>\n",
       "      <td>1</td>\n",
       "      <td>0</td>\n",
       "      <td>0</td>\n",
       "      <td>0</td>\n",
       "      <td>0</td>\n",
       "      <td>0</td>\n",
       "      <td>0</td>\n",
       "      <td>0</td>\n",
       "      <td>0</td>\n",
       "      <td>...</td>\n",
       "      <td>0</td>\n",
       "      <td>0</td>\n",
       "      <td>0</td>\n",
       "      <td>0</td>\n",
       "      <td>0</td>\n",
       "      <td>0</td>\n",
       "      <td>0</td>\n",
       "      <td>0</td>\n",
       "      <td>0</td>\n",
       "      <td>0</td>\n",
       "    </tr>\n",
       "    <tr>\n",
       "      <th>4</th>\n",
       "      <td>0</td>\n",
       "      <td>0</td>\n",
       "      <td>0</td>\n",
       "      <td>0</td>\n",
       "      <td>0</td>\n",
       "      <td>0</td>\n",
       "      <td>0</td>\n",
       "      <td>0</td>\n",
       "      <td>0</td>\n",
       "      <td>0</td>\n",
       "      <td>...</td>\n",
       "      <td>0</td>\n",
       "      <td>0</td>\n",
       "      <td>0</td>\n",
       "      <td>0</td>\n",
       "      <td>0</td>\n",
       "      <td>0</td>\n",
       "      <td>0</td>\n",
       "      <td>0</td>\n",
       "      <td>0</td>\n",
       "      <td>0</td>\n",
       "    </tr>\n",
       "  </tbody>\n",
       "</table>\n",
       "<p>5 rows × 819 columns</p>\n",
       "</div>"
      ],
      "text/plain": [
       "   aamir khan  aaron eckhart  abdel ahmed ghili  adam baldwin  adam driver  \\\n",
       "0           0              0                  0             0            0   \n",
       "1           0              0                  0             0            0   \n",
       "2           0              0                  0             0            0   \n",
       "3           0              1                  0             0            0   \n",
       "4           0              0                  0             0            0   \n",
       "\n",
       "   adolphe menjou  adrien brody  agnes moorehead  ahney her  akemi yamaguchi  \\\n",
       "0               0             0                0          0                0   \n",
       "1               0             0                0          0                0   \n",
       "2               0             0                0          0                0   \n",
       "3               0             0                0          0                0   \n",
       "4               0             0                0          0                0   \n",
       "\n",
       "        ...        yacef saadi  yesim salkim  yoshiko shinohara  \\\n",
       "0       ...                  0             0                  0   \n",
       "1       ...                  0             0                  0   \n",
       "2       ...                  0             0                  0   \n",
       "3       ...                  0             0                  0   \n",
       "4       ...                  0             0                  0   \n",
       "\n",
       "   yukiko shimazaki  yves montand  yôko tsukasa  zach grenier  zoe saldana  \\\n",
       "0                 0             0             0             0            0   \n",
       "1                 0             0             0             0            0   \n",
       "2                 0             0             0             0            0   \n",
       "3                 0             0             0             0            0   \n",
       "4                 0             0             0             0            0   \n",
       "\n",
       "   álvaro guerrero  çetin tekindor  \n",
       "0                0               0  \n",
       "1                0               0  \n",
       "2                0               0  \n",
       "3                0               0  \n",
       "4                0               0  \n",
       "\n",
       "[5 rows x 819 columns]"
      ]
     },
     "execution_count": 322,
     "metadata": {},
     "output_type": "execute_result"
    }
   ],
   "source": [
    "v = CountVectorizer(\n",
    "    binary=True,\n",
    "    tokenizer=lambda x: x.split(', ')\n",
    ")\n",
    "\n",
    "X_actors = pd.DataFrame(v.fit_transform(mov_info['Actors']).todense())\n",
    "X_actors.columns = v.get_feature_names()\n",
    "X_actors.head()"
   ]
  },
  {
   "cell_type": "code",
   "execution_count": 323,
   "metadata": {
    "collapsed": false
   },
   "outputs": [
    {
     "data": {
      "text/plain": [
       "u'Al Pacino, Robert Duvall, Diane Keaton, Robert De Niro'"
      ]
     },
     "execution_count": 323,
     "metadata": {},
     "output_type": "execute_result"
    }
   ],
   "source": [
    "XXX = mov_info.merge(X_actors, how='inner', left_index=True, right_index=True)\n",
    "XX = XXX.merge(X_genre, how='inner', left_index=True, right_index=True)\n",
    "df = XX.merge(X_plot, how='inner', left_index=True, right_index=True)\n",
    "med_ = np.median(df['Gross'])\n",
    "df['Gross'] = df['Gross'].replace(0, med_)\n",
    "df.columns[:25]\n",
    "df.ix[2, 'Actors']"
   ]
  },
  {
   "cell_type": "markdown",
   "metadata": {
    "button": false,
    "deletable": true,
    "new_sheet": false,
    "run_control": {
     "read_only": false
    }
   },
   "source": [
    "## Exercise 2: Showing Our Data\n",
    "\n",
    "We did all that hard work. Let's show it to the world! First save your .csv file.\n",
    "\n",
    "```\n",
    "df.to_csv('imdb.csv', sep='\\t', encoding='utf-8')\n",
    "```"
   ]
  },
  {
   "cell_type": "code",
   "execution_count": 324,
   "metadata": {
    "collapsed": true
   },
   "outputs": [],
   "source": [
    "df.to_csv('imdb.csv', sep='\\t', encoding='utf-8')"
   ]
  },
  {
   "cell_type": "markdown",
   "metadata": {
    "button": false,
    "collapsed": false,
    "deletable": true,
    "new_sheet": false,
    "run_control": {
     "read_only": false
    }
   },
   "source": [
    "## 2.a Add model\n",
    "\n",
    "Add a new model to the models.py file in your website folder. It should contain each movie's meta data such as rank, summary, genre, and rating. Here is an example of a movies model.\n",
    "\n",
    "```\n",
    "class TopMovies(models.Model):\n",
    "    name = models.CharField(max_length=200)\n",
    "    rank = models.IntegerField(default=-1)\n",
    "    created = models.DateTimeField(auto_now_add=True, blank=True)\n",
    "```"
   ]
  },
  {
   "cell_type": "markdown",
   "metadata": {
    "run_control": {}
   },
   "source": [
    "## 2.b Add Url\n",
    "Add the following path to your url.py file.\n",
    "\n",
    "```\n",
    "url(r'^imdb/top/$', views.imdb, name='imdb')\n",
    "```"
   ]
  },
  {
   "cell_type": "markdown",
   "metadata": {
    "run_control": {}
   },
   "source": [
    "## 2.c Create View\n",
    "\n",
    "Create your view. Remember you need to name it imdb! Your view should contain the following logic:\n",
    "\n",
    "- If your imdb database has no values in it\n",
    "    - Open up your imdb.csv file and populate the model\n",
    "- Retrieve model and show the data on your webpage"
   ]
  },
  {
   "cell_type": "markdown",
   "metadata": {
    "run_control": {}
   },
   "source": [
    "## 2.d Create Template\n",
    "\n",
    "Link a new template to your view. Your template must do the following things:\n",
    "\n",
    "- Use a table, rows, and columns to organize your data\n",
    "- Have a different background color besides white\n",
    "- Show your image poster links as images"
   ]
  },
  {
   "cell_type": "markdown",
   "metadata": {
    "run_control": {}
   },
   "source": [
    "## 2.e Submit Url\n",
    "\n",
    "Paste your new url below"
   ]
  },
  {
   "cell_type": "markdown",
   "metadata": {
    "collapsed": true,
    "run_control": {}
   },
   "source": [
    "https://secure-bayou-76149.herokuapp.com/site/imdb/top/"
   ]
  },
  {
   "cell_type": "code",
   "execution_count": null,
   "metadata": {
    "collapsed": true
   },
   "outputs": [],
   "source": []
  }
 ],
 "metadata": {
  "anaconda-cloud": {},
  "kernelspec": {
   "display_name": "Python [Root]",
   "language": "python",
   "name": "Python [Root]"
  },
  "language_info": {
   "codemirror_mode": {
    "name": "ipython",
    "version": 2
   },
   "file_extension": ".py",
   "mimetype": "text/x-python",
   "name": "python",
   "nbconvert_exporter": "python",
   "pygments_lexer": "ipython2",
   "version": "2.7.12"
  }
 },
 "nbformat": 4,
 "nbformat_minor": 0
}
